{
 "cells": [
  {
   "cell_type": "markdown",
   "metadata": {},
   "source": [
    "# Librairies"
   ]
  },
  {
   "cell_type": "code",
   "execution_count": 12,
   "metadata": {},
   "outputs": [],
   "source": [
    "import pandas as pd\n",
    "import datetime"
   ]
  },
  {
   "cell_type": "markdown",
   "metadata": {},
   "source": [
    "# Data"
   ]
  },
  {
   "cell_type": "markdown",
   "metadata": {},
   "source": [
    "https://data.europa.eu/data/datasets/5ec29500b15b283d178d21a4?locale=da"
   ]
  },
  {
   "cell_type": "code",
   "execution_count": 8,
   "metadata": {},
   "outputs": [],
   "source": [
    "SMparRegion=pd.read_excel(\"geodes-dpps-sante-mentale-v1-v28.xlsx\",sheet_name='sexe')"
   ]
  },
  {
   "cell_type": "code",
   "execution_count": 38,
   "metadata": {},
   "outputs": [
    {
     "data": {
      "text/html": [
       "<div>\n",
       "<style scoped>\n",
       "    .dataframe tbody tr th:only-of-type {\n",
       "        vertical-align: middle;\n",
       "    }\n",
       "\n",
       "    .dataframe tbody tr th {\n",
       "        vertical-align: top;\n",
       "    }\n",
       "\n",
       "    .dataframe thead th {\n",
       "        text-align: right;\n",
       "    }\n",
       "</style>\n",
       "<table border=\"1\" class=\"dataframe\">\n",
       "  <thead>\n",
       "    <tr style=\"text-align: right;\">\n",
       "      <th></th>\n",
       "      <th>sexe</th>\n",
       "      <th>semaine</th>\n",
       "      <th>anxiete</th>\n",
       "      <th>depression</th>\n",
       "      <th>pbsommeil</th>\n",
       "      <th>ps12mois</th>\n",
       "    </tr>\n",
       "  </thead>\n",
       "  <tbody>\n",
       "    <tr>\n",
       "      <th>0</th>\n",
       "      <td>Homme</td>\n",
       "      <td>Vague 1 : 23-25 mars</td>\n",
       "      <td>21.3</td>\n",
       "      <td>NaN</td>\n",
       "      <td>NaN</td>\n",
       "      <td>NaN</td>\n",
       "    </tr>\n",
       "    <tr>\n",
       "      <th>1</th>\n",
       "      <td>Femme</td>\n",
       "      <td>Vague 1 : 23-25 mars</td>\n",
       "      <td>31.6</td>\n",
       "      <td>NaN</td>\n",
       "      <td>NaN</td>\n",
       "      <td>NaN</td>\n",
       "    </tr>\n",
       "    <tr>\n",
       "      <th>2</th>\n",
       "      <td>Homme</td>\n",
       "      <td>Vague 2 : 30 mars-1 avr</td>\n",
       "      <td>16.6</td>\n",
       "      <td>18.5</td>\n",
       "      <td>54.2</td>\n",
       "      <td>NaN</td>\n",
       "    </tr>\n",
       "    <tr>\n",
       "      <th>3</th>\n",
       "      <td>Femme</td>\n",
       "      <td>Vague 2 : 30 mars-1 avr</td>\n",
       "      <td>26.0</td>\n",
       "      <td>21.1</td>\n",
       "      <td>67.8</td>\n",
       "      <td>NaN</td>\n",
       "    </tr>\n",
       "    <tr>\n",
       "      <th>4</th>\n",
       "      <td>Homme</td>\n",
       "      <td>Vague 3 : 14-16 avr</td>\n",
       "      <td>14.4</td>\n",
       "      <td>15.3</td>\n",
       "      <td>57.2</td>\n",
       "      <td>NaN</td>\n",
       "    </tr>\n",
       "  </tbody>\n",
       "</table>\n",
       "</div>"
      ],
      "text/plain": [
       "    sexe                  semaine  anxiete  depression  pbsommeil  ps12mois\n",
       "0  Homme     Vague 1 : 23-25 mars     21.3         NaN        NaN       NaN\n",
       "1  Femme     Vague 1 : 23-25 mars     31.6         NaN        NaN       NaN\n",
       "2  Homme  Vague 2 : 30 mars-1 avr     16.6        18.5       54.2       NaN\n",
       "3  Femme  Vague 2 : 30 mars-1 avr     26.0        21.1       67.8       NaN\n",
       "4  Homme      Vague 3 : 14-16 avr     14.4        15.3       57.2       NaN"
      ]
     },
     "execution_count": 38,
     "metadata": {},
     "output_type": "execute_result"
    }
   ],
   "source": [
    "SMparRegion.head()"
   ]
  },
  {
   "cell_type": "markdown",
   "metadata": {},
   "source": [
    "Dans toutes les feuilles, on a une plage de dates pour les différentes vagues. "
   ]
  },
  {
   "cell_type": "code",
   "execution_count": 16,
   "metadata": {},
   "outputs": [
    {
     "data": {
      "text/plain": [
       "datetime.datetime(2020, 3, 24, 0, 0)"
      ]
     },
     "execution_count": 16,
     "metadata": {},
     "output_type": "execute_result"
    }
   ],
   "source": [
    "datetime.datetime.strptime(\"24-03-2020\", '%d-%m-%Y')"
   ]
  },
  {
   "cell_type": "code",
   "execution_count": 23,
   "metadata": {},
   "outputs": [],
   "source": [
    "def replaceInDf(data):\n",
    "    df=data.copy()\n",
    "    df.replace(\"Vague 1 : 23-25 mars\",datetime.datetime.strptime(\"24-03-2020\", '%d-%m-%Y'),inplace=True)\n",
    "    df.replace(\"Vague 2 : 30 mars-1 avr\",datetime.datetime.strptime(\"30-03-2020\", '%d-%m-%Y'),inplace=True)\n",
    "    df.replace(\"Vague 3 : 14-16 avr\",datetime.datetime.strptime(\"15-04-2020\", '%d-%m-%Y'),inplace=True)\n",
    "    df.replace(\"Vague 4 : 20-22 avr\",datetime.datetime.strptime(\"21-04-2020\", '%d-%m-%Y'),inplace=True)\n",
    "    df.replace(\"Vague 5 : 28-30 avr\",datetime.datetime.strptime(\"29-04-2020\", '%d-%m-%Y'),inplace=True)\n",
    "    df.replace(\"Vague 6 : 4-6 mai\",datetime.datetime.strptime(\"05-05-2020\", '%d-%m-%Y'),inplace=True)\n",
    "    df.replace(\"Vague 7 : 13-15 mai\",datetime.datetime.strptime(\"14-05-2020\", '%d-%m-%Y'),inplace=True)\n",
    "    df.replace(\"Vague 8 : 18-20 mai\",datetime.datetime.strptime(\"19-05-2020\", '%d-%m-%Y'),inplace=True)\n",
    "    df.replace(\"Vague 9 : 27-29 mai\",datetime.datetime.strptime(\"28-05-2020\", '%d-%m-%Y'),inplace=True)\n",
    "    df.replace(\"Vague 10 : 8-10 juin\",datetime.datetime.strptime(\"09-06-2020\", '%d-%m-%Y'),inplace=True)\n",
    "    df.replace(\"Vague 11 : 22-24 juin\",datetime.datetime.strptime(\"23-06-2020\", '%d-%m-%Y'),inplace=True)\n",
    "    df.replace(\"Vague 12 : 6-8 juillet\",datetime.datetime.strptime(\"07-07-2020\", '%d-%m-%Y'),inplace=True)\n",
    "    df.replace(\"Vague 13 : 20-22 juillet\",datetime.datetime.strptime(\"21-07-2020\", '%d-%m-%Y'),inplace=True)\n",
    "    df.replace(\"Vague 14 : 24-26 août\",datetime.datetime.strptime(\"25-08-2020\", '%d-%m-%Y'),inplace=True)\n",
    "    df.replace(\"Vague 15 : 21-23 sept.\",datetime.datetime.strptime(\"22-09-2020\", '%d-%m-%Y'),inplace=True)\n",
    "    df.replace(\"Vague 16 : 19-21 oct.\",datetime.datetime.strptime(\"20-11-2020\", '%d-%m-%Y'),inplace=True)\n",
    "    df.replace(\"Vague 17 : 4-6 nov.\",datetime.datetime.strptime(\"04-11-2020\", '%d-%m-%Y'),inplace=True)\n",
    "    df.replace(\"Vague 18 : 23-25 nov.\",datetime.datetime.strptime(\"24-11-2020\", '%d-%m-%Y'),inplace=True)\n",
    "    df.replace(\"Vague 19 : 14-16 dec..\",datetime.datetime.strptime(\"15-12-2020\", '%d-%m-%Y'),inplace=True)\n",
    "    df.replace(\"Vague 20 : 18-20 janv.\",datetime.datetime.strptime(\"19-01-2021\", '%d-%m-%Y'),inplace=True)\n",
    "    df.replace(\"Vague 21 : 15-17 fév.\",datetime.datetime.strptime(\"14-02-2021\", '%d-%m-%Y'),inplace=True)\n",
    "    df.replace(\"Vague 22 : 15-17 mars\",datetime.datetime.strptime(\"16-03-2021\", '%d-%m-%Y'),inplace=True)\n",
    "    df.replace(\"Vague 23 : 21-23 avril\",datetime.datetime.strptime(\"22-04-2021\", '%d-%m-%Y'),inplace=True)\n",
    "    df.replace(\"Vague 24 : 17-19 mai\",datetime.datetime.strptime(\"18-05-2021\", '%d-%m-%Y'),inplace=True)\n",
    "    df.replace(\"Vague 25 : 21-28 juin\",datetime.datetime.strptime(\"27-06-2021\", '%d-%m-%Y'),inplace=True)\n",
    "    df.replace(\"Vague 26 : 15-21 juillet\",datetime.datetime.strptime(\"17-07-2021\", '%d-%m-%Y'),inplace=True)\n",
    "    df.replace(\"Vague 27 : 31 août-7 sept.\",datetime.datetime.strptime(\"01-08-2021\", '%d-%m-%Y'),inplace=True)\n",
    "    df.replace(\"Vague 28 : 28 sept.-5 oct.\",datetime.datetime.strptime(\"01-10-2021\", '%d-%m-%Y'),inplace=True)\n",
    "    return df\n",
    "\n"
   ]
  },
  {
   "cell_type": "code",
   "execution_count": 33,
   "metadata": {},
   "outputs": [],
   "source": [
    "df=replaceInDf(SMparRegion)"
   ]
  },
  {
   "cell_type": "code",
   "execution_count": 28,
   "metadata": {},
   "outputs": [],
   "source": [
    "import plotly.express as px"
   ]
  },
  {
   "cell_type": "code",
   "execution_count": 31,
   "metadata": {},
   "outputs": [
    {
     "data": {
      "application/vnd.plotly.v1+json": {
       "config": {
        "plotlyServerURL": "https://plot.ly"
       },
       "data": [
        {
         "alignmentgroup": "True",
         "hovertemplate": "sexe=Homme<br>semaine=%{x}<br>anxiete=%{y}<extra></extra>",
         "legendgroup": "Homme",
         "marker": {
          "color": "#636efa",
          "pattern": {
           "shape": ""
          }
         },
         "name": "Homme",
         "offsetgroup": "Homme",
         "orientation": "v",
         "showlegend": true,
         "textposition": "auto",
         "type": "bar",
         "x": [
          "2020-03-24T00:00:00",
          "2020-03-30T00:00:00",
          "2020-04-15T00:00:00",
          "2020-04-21T00:00:00",
          "2020-04-29T00:00:00",
          "2020-05-05T00:00:00",
          "2020-05-14T00:00:00",
          "2020-05-19T00:00:00",
          "2020-05-28T00:00:00",
          "2020-06-09T00:00:00",
          "2020-06-23T00:00:00",
          "2020-07-07T00:00:00",
          "2020-07-21T00:00:00",
          "2020-08-25T00:00:00",
          "2020-09-22T00:00:00",
          "2020-11-20T00:00:00",
          "2020-11-04T00:00:00",
          "2020-11-24T00:00:00",
          "2020-12-15T00:00:00",
          "2021-01-19T00:00:00",
          "2021-02-14T00:00:00",
          "2021-03-16T00:00:00",
          "2021-04-22T00:00:00",
          "2021-05-18T00:00:00",
          "2021-06-27T00:00:00",
          "2021-07-17T00:00:00",
          "2021-08-01T00:00:00",
          "2021-10-01T00:00:00"
         ],
         "xaxis": "x",
         "y": [
          21.3,
          16.6,
          14.4,
          13.6,
          14.7,
          15.1,
          15.7,
          12.9,
          13.4,
          14.8,
          12.2,
          11.7,
          12.42423,
          13.4,
          14.8,
          14.9,
          16.2,
          14,
          14.6,
          16.3,
          19.4,
          16.2,
          18.3,
          15.2,
          15,
          16.7,
          20.2,
          20.3
         ],
         "yaxis": "y"
        },
        {
         "alignmentgroup": "True",
         "hovertemplate": "sexe=Femme<br>semaine=%{x}<br>anxiete=%{y}<extra></extra>",
         "legendgroup": "Femme",
         "marker": {
          "color": "#EF553B",
          "pattern": {
           "shape": ""
          }
         },
         "name": "Femme",
         "offsetgroup": "Femme",
         "orientation": "v",
         "showlegend": true,
         "textposition": "auto",
         "type": "bar",
         "x": [
          "2020-03-24T00:00:00",
          "2020-03-30T00:00:00",
          "2020-04-15T00:00:00",
          "2020-04-21T00:00:00",
          "2020-04-29T00:00:00",
          "2020-05-05T00:00:00",
          "2020-05-14T00:00:00",
          "2020-05-19T00:00:00",
          "2020-05-28T00:00:00",
          "2020-06-09T00:00:00",
          "2020-06-23T00:00:00",
          "2020-07-07T00:00:00",
          "2020-07-21T00:00:00",
          "2020-08-25T00:00:00",
          "2020-09-22T00:00:00",
          "2020-11-20T00:00:00",
          "2020-11-04T00:00:00",
          "2020-11-24T00:00:00",
          "2020-12-15T00:00:00",
          "2021-01-19T00:00:00",
          "2021-02-14T00:00:00",
          "2021-03-16T00:00:00",
          "2021-04-22T00:00:00",
          "2021-05-18T00:00:00",
          "2021-06-27T00:00:00",
          "2021-07-17T00:00:00",
          "2021-08-01T00:00:00",
          "2021-10-01T00:00:00"
         ],
         "xaxis": "x",
         "y": [
          31.6,
          26,
          21.5,
          23.7,
          21.2,
          21.4,
          19.3,
          20.5,
          19.3,
          17,
          17.7,
          21.9,
          22.23151,
          21.2,
          21,
          22.9,
          25,
          22.7,
          25.4,
          21.9,
          25.7,
          24.9,
          25.9,
          25.5,
          22.5,
          21.9,
          26.2,
          30.9
         ],
         "yaxis": "y"
        }
       ],
       "layout": {
        "barmode": "group",
        "height": 400,
        "legend": {
         "title": {
          "text": "sexe"
         },
         "tracegroupgap": 0
        },
        "margin": {
         "t": 60
        },
        "template": {
         "data": {
          "bar": [
           {
            "error_x": {
             "color": "#2a3f5f"
            },
            "error_y": {
             "color": "#2a3f5f"
            },
            "marker": {
             "line": {
              "color": "#E5ECF6",
              "width": 0.5
             },
             "pattern": {
              "fillmode": "overlay",
              "size": 10,
              "solidity": 0.2
             }
            },
            "type": "bar"
           }
          ],
          "barpolar": [
           {
            "marker": {
             "line": {
              "color": "#E5ECF6",
              "width": 0.5
             },
             "pattern": {
              "fillmode": "overlay",
              "size": 10,
              "solidity": 0.2
             }
            },
            "type": "barpolar"
           }
          ],
          "carpet": [
           {
            "aaxis": {
             "endlinecolor": "#2a3f5f",
             "gridcolor": "white",
             "linecolor": "white",
             "minorgridcolor": "white",
             "startlinecolor": "#2a3f5f"
            },
            "baxis": {
             "endlinecolor": "#2a3f5f",
             "gridcolor": "white",
             "linecolor": "white",
             "minorgridcolor": "white",
             "startlinecolor": "#2a3f5f"
            },
            "type": "carpet"
           }
          ],
          "choropleth": [
           {
            "colorbar": {
             "outlinewidth": 0,
             "ticks": ""
            },
            "type": "choropleth"
           }
          ],
          "contour": [
           {
            "colorbar": {
             "outlinewidth": 0,
             "ticks": ""
            },
            "colorscale": [
             [
              0,
              "#0d0887"
             ],
             [
              0.1111111111111111,
              "#46039f"
             ],
             [
              0.2222222222222222,
              "#7201a8"
             ],
             [
              0.3333333333333333,
              "#9c179e"
             ],
             [
              0.4444444444444444,
              "#bd3786"
             ],
             [
              0.5555555555555556,
              "#d8576b"
             ],
             [
              0.6666666666666666,
              "#ed7953"
             ],
             [
              0.7777777777777778,
              "#fb9f3a"
             ],
             [
              0.8888888888888888,
              "#fdca26"
             ],
             [
              1,
              "#f0f921"
             ]
            ],
            "type": "contour"
           }
          ],
          "contourcarpet": [
           {
            "colorbar": {
             "outlinewidth": 0,
             "ticks": ""
            },
            "type": "contourcarpet"
           }
          ],
          "heatmap": [
           {
            "colorbar": {
             "outlinewidth": 0,
             "ticks": ""
            },
            "colorscale": [
             [
              0,
              "#0d0887"
             ],
             [
              0.1111111111111111,
              "#46039f"
             ],
             [
              0.2222222222222222,
              "#7201a8"
             ],
             [
              0.3333333333333333,
              "#9c179e"
             ],
             [
              0.4444444444444444,
              "#bd3786"
             ],
             [
              0.5555555555555556,
              "#d8576b"
             ],
             [
              0.6666666666666666,
              "#ed7953"
             ],
             [
              0.7777777777777778,
              "#fb9f3a"
             ],
             [
              0.8888888888888888,
              "#fdca26"
             ],
             [
              1,
              "#f0f921"
             ]
            ],
            "type": "heatmap"
           }
          ],
          "heatmapgl": [
           {
            "colorbar": {
             "outlinewidth": 0,
             "ticks": ""
            },
            "colorscale": [
             [
              0,
              "#0d0887"
             ],
             [
              0.1111111111111111,
              "#46039f"
             ],
             [
              0.2222222222222222,
              "#7201a8"
             ],
             [
              0.3333333333333333,
              "#9c179e"
             ],
             [
              0.4444444444444444,
              "#bd3786"
             ],
             [
              0.5555555555555556,
              "#d8576b"
             ],
             [
              0.6666666666666666,
              "#ed7953"
             ],
             [
              0.7777777777777778,
              "#fb9f3a"
             ],
             [
              0.8888888888888888,
              "#fdca26"
             ],
             [
              1,
              "#f0f921"
             ]
            ],
            "type": "heatmapgl"
           }
          ],
          "histogram": [
           {
            "marker": {
             "pattern": {
              "fillmode": "overlay",
              "size": 10,
              "solidity": 0.2
             }
            },
            "type": "histogram"
           }
          ],
          "histogram2d": [
           {
            "colorbar": {
             "outlinewidth": 0,
             "ticks": ""
            },
            "colorscale": [
             [
              0,
              "#0d0887"
             ],
             [
              0.1111111111111111,
              "#46039f"
             ],
             [
              0.2222222222222222,
              "#7201a8"
             ],
             [
              0.3333333333333333,
              "#9c179e"
             ],
             [
              0.4444444444444444,
              "#bd3786"
             ],
             [
              0.5555555555555556,
              "#d8576b"
             ],
             [
              0.6666666666666666,
              "#ed7953"
             ],
             [
              0.7777777777777778,
              "#fb9f3a"
             ],
             [
              0.8888888888888888,
              "#fdca26"
             ],
             [
              1,
              "#f0f921"
             ]
            ],
            "type": "histogram2d"
           }
          ],
          "histogram2dcontour": [
           {
            "colorbar": {
             "outlinewidth": 0,
             "ticks": ""
            },
            "colorscale": [
             [
              0,
              "#0d0887"
             ],
             [
              0.1111111111111111,
              "#46039f"
             ],
             [
              0.2222222222222222,
              "#7201a8"
             ],
             [
              0.3333333333333333,
              "#9c179e"
             ],
             [
              0.4444444444444444,
              "#bd3786"
             ],
             [
              0.5555555555555556,
              "#d8576b"
             ],
             [
              0.6666666666666666,
              "#ed7953"
             ],
             [
              0.7777777777777778,
              "#fb9f3a"
             ],
             [
              0.8888888888888888,
              "#fdca26"
             ],
             [
              1,
              "#f0f921"
             ]
            ],
            "type": "histogram2dcontour"
           }
          ],
          "mesh3d": [
           {
            "colorbar": {
             "outlinewidth": 0,
             "ticks": ""
            },
            "type": "mesh3d"
           }
          ],
          "parcoords": [
           {
            "line": {
             "colorbar": {
              "outlinewidth": 0,
              "ticks": ""
             }
            },
            "type": "parcoords"
           }
          ],
          "pie": [
           {
            "automargin": true,
            "type": "pie"
           }
          ],
          "scatter": [
           {
            "marker": {
             "colorbar": {
              "outlinewidth": 0,
              "ticks": ""
             }
            },
            "type": "scatter"
           }
          ],
          "scatter3d": [
           {
            "line": {
             "colorbar": {
              "outlinewidth": 0,
              "ticks": ""
             }
            },
            "marker": {
             "colorbar": {
              "outlinewidth": 0,
              "ticks": ""
             }
            },
            "type": "scatter3d"
           }
          ],
          "scattercarpet": [
           {
            "marker": {
             "colorbar": {
              "outlinewidth": 0,
              "ticks": ""
             }
            },
            "type": "scattercarpet"
           }
          ],
          "scattergeo": [
           {
            "marker": {
             "colorbar": {
              "outlinewidth": 0,
              "ticks": ""
             }
            },
            "type": "scattergeo"
           }
          ],
          "scattergl": [
           {
            "marker": {
             "colorbar": {
              "outlinewidth": 0,
              "ticks": ""
             }
            },
            "type": "scattergl"
           }
          ],
          "scattermapbox": [
           {
            "marker": {
             "colorbar": {
              "outlinewidth": 0,
              "ticks": ""
             }
            },
            "type": "scattermapbox"
           }
          ],
          "scatterpolar": [
           {
            "marker": {
             "colorbar": {
              "outlinewidth": 0,
              "ticks": ""
             }
            },
            "type": "scatterpolar"
           }
          ],
          "scatterpolargl": [
           {
            "marker": {
             "colorbar": {
              "outlinewidth": 0,
              "ticks": ""
             }
            },
            "type": "scatterpolargl"
           }
          ],
          "scatterternary": [
           {
            "marker": {
             "colorbar": {
              "outlinewidth": 0,
              "ticks": ""
             }
            },
            "type": "scatterternary"
           }
          ],
          "surface": [
           {
            "colorbar": {
             "outlinewidth": 0,
             "ticks": ""
            },
            "colorscale": [
             [
              0,
              "#0d0887"
             ],
             [
              0.1111111111111111,
              "#46039f"
             ],
             [
              0.2222222222222222,
              "#7201a8"
             ],
             [
              0.3333333333333333,
              "#9c179e"
             ],
             [
              0.4444444444444444,
              "#bd3786"
             ],
             [
              0.5555555555555556,
              "#d8576b"
             ],
             [
              0.6666666666666666,
              "#ed7953"
             ],
             [
              0.7777777777777778,
              "#fb9f3a"
             ],
             [
              0.8888888888888888,
              "#fdca26"
             ],
             [
              1,
              "#f0f921"
             ]
            ],
            "type": "surface"
           }
          ],
          "table": [
           {
            "cells": {
             "fill": {
              "color": "#EBF0F8"
             },
             "line": {
              "color": "white"
             }
            },
            "header": {
             "fill": {
              "color": "#C8D4E3"
             },
             "line": {
              "color": "white"
             }
            },
            "type": "table"
           }
          ]
         },
         "layout": {
          "annotationdefaults": {
           "arrowcolor": "#2a3f5f",
           "arrowhead": 0,
           "arrowwidth": 1
          },
          "autotypenumbers": "strict",
          "coloraxis": {
           "colorbar": {
            "outlinewidth": 0,
            "ticks": ""
           }
          },
          "colorscale": {
           "diverging": [
            [
             0,
             "#8e0152"
            ],
            [
             0.1,
             "#c51b7d"
            ],
            [
             0.2,
             "#de77ae"
            ],
            [
             0.3,
             "#f1b6da"
            ],
            [
             0.4,
             "#fde0ef"
            ],
            [
             0.5,
             "#f7f7f7"
            ],
            [
             0.6,
             "#e6f5d0"
            ],
            [
             0.7,
             "#b8e186"
            ],
            [
             0.8,
             "#7fbc41"
            ],
            [
             0.9,
             "#4d9221"
            ],
            [
             1,
             "#276419"
            ]
           ],
           "sequential": [
            [
             0,
             "#0d0887"
            ],
            [
             0.1111111111111111,
             "#46039f"
            ],
            [
             0.2222222222222222,
             "#7201a8"
            ],
            [
             0.3333333333333333,
             "#9c179e"
            ],
            [
             0.4444444444444444,
             "#bd3786"
            ],
            [
             0.5555555555555556,
             "#d8576b"
            ],
            [
             0.6666666666666666,
             "#ed7953"
            ],
            [
             0.7777777777777778,
             "#fb9f3a"
            ],
            [
             0.8888888888888888,
             "#fdca26"
            ],
            [
             1,
             "#f0f921"
            ]
           ],
           "sequentialminus": [
            [
             0,
             "#0d0887"
            ],
            [
             0.1111111111111111,
             "#46039f"
            ],
            [
             0.2222222222222222,
             "#7201a8"
            ],
            [
             0.3333333333333333,
             "#9c179e"
            ],
            [
             0.4444444444444444,
             "#bd3786"
            ],
            [
             0.5555555555555556,
             "#d8576b"
            ],
            [
             0.6666666666666666,
             "#ed7953"
            ],
            [
             0.7777777777777778,
             "#fb9f3a"
            ],
            [
             0.8888888888888888,
             "#fdca26"
            ],
            [
             1,
             "#f0f921"
            ]
           ]
          },
          "colorway": [
           "#636efa",
           "#EF553B",
           "#00cc96",
           "#ab63fa",
           "#FFA15A",
           "#19d3f3",
           "#FF6692",
           "#B6E880",
           "#FF97FF",
           "#FECB52"
          ],
          "font": {
           "color": "#2a3f5f"
          },
          "geo": {
           "bgcolor": "white",
           "lakecolor": "white",
           "landcolor": "#E5ECF6",
           "showlakes": true,
           "showland": true,
           "subunitcolor": "white"
          },
          "hoverlabel": {
           "align": "left"
          },
          "hovermode": "closest",
          "mapbox": {
           "style": "light"
          },
          "paper_bgcolor": "white",
          "plot_bgcolor": "#E5ECF6",
          "polar": {
           "angularaxis": {
            "gridcolor": "white",
            "linecolor": "white",
            "ticks": ""
           },
           "bgcolor": "#E5ECF6",
           "radialaxis": {
            "gridcolor": "white",
            "linecolor": "white",
            "ticks": ""
           }
          },
          "scene": {
           "xaxis": {
            "backgroundcolor": "#E5ECF6",
            "gridcolor": "white",
            "gridwidth": 2,
            "linecolor": "white",
            "showbackground": true,
            "ticks": "",
            "zerolinecolor": "white"
           },
           "yaxis": {
            "backgroundcolor": "#E5ECF6",
            "gridcolor": "white",
            "gridwidth": 2,
            "linecolor": "white",
            "showbackground": true,
            "ticks": "",
            "zerolinecolor": "white"
           },
           "zaxis": {
            "backgroundcolor": "#E5ECF6",
            "gridcolor": "white",
            "gridwidth": 2,
            "linecolor": "white",
            "showbackground": true,
            "ticks": "",
            "zerolinecolor": "white"
           }
          },
          "shapedefaults": {
           "line": {
            "color": "#2a3f5f"
           }
          },
          "ternary": {
           "aaxis": {
            "gridcolor": "white",
            "linecolor": "white",
            "ticks": ""
           },
           "baxis": {
            "gridcolor": "white",
            "linecolor": "white",
            "ticks": ""
           },
           "bgcolor": "#E5ECF6",
           "caxis": {
            "gridcolor": "white",
            "linecolor": "white",
            "ticks": ""
           }
          },
          "title": {
           "x": 0.05
          },
          "xaxis": {
           "automargin": true,
           "gridcolor": "white",
           "linecolor": "white",
           "ticks": "",
           "title": {
            "standoff": 15
           },
           "zerolinecolor": "white",
           "zerolinewidth": 2
          },
          "yaxis": {
           "automargin": true,
           "gridcolor": "white",
           "linecolor": "white",
           "ticks": "",
           "title": {
            "standoff": 15
           },
           "zerolinecolor": "white",
           "zerolinewidth": 2
          }
         }
        },
        "xaxis": {
         "anchor": "y",
         "domain": [
          0,
          1
         ],
         "title": {
          "text": "semaine"
         }
        },
        "yaxis": {
         "anchor": "x",
         "domain": [
          0,
          1
         ],
         "title": {
          "text": "anxiete"
         }
        }
       }
      }
     },
     "metadata": {},
     "output_type": "display_data"
    }
   ],
   "source": [
    "fig = px.bar(replaceInDf(SMparRegion), x=\"semaine\", y=\"anxiete\",\n",
    "             color='sexe',barmode='group',height=400)\n",
    "fig.show()"
   ]
  },
  {
   "cell_type": "code",
   "execution_count": null,
   "metadata": {},
   "outputs": [],
   "source": []
  }
 ],
 "metadata": {
  "interpreter": {
   "hash": "037d1818fbf44f18849bc97085e1da2cc5b46dae87c46efcff64f00349c4efdb"
  },
  "kernelspec": {
   "display_name": "Python 3.6.2 64-bit ('base': conda)",
   "language": "python",
   "name": "python3"
  },
  "language_info": {
   "codemirror_mode": {
    "name": "ipython",
    "version": 3
   },
   "file_extension": ".py",
   "mimetype": "text/x-python",
   "name": "python",
   "nbconvert_exporter": "python",
   "pygments_lexer": "ipython3",
   "version": "3.6.2"
  },
  "orig_nbformat": 4
 },
 "nbformat": 4,
 "nbformat_minor": 2
}
